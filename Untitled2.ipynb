{
 "cells": [
  {
   "cell_type": "code",
   "execution_count": 3,
   "metadata": {},
   "outputs": [],
   "source": [
    "import numpy as np\n",
    "import sys\n",
    "import os\n",
    "import math"
   ]
  },
  {
   "cell_type": "code",
   "execution_count": 4,
   "metadata": {},
   "outputs": [],
   "source": [
    "def labelread_sequence(file_path):\n",
    "    bbox = ('bbox', ['left', 'top', 'right', 'bottom'])\n",
    "    dimensions = ('dimensions', ['height', 'width', 'length'])\n",
    "    location = ('location', ['x', 'y', 'z'])\n",
    "    keys = ['type', 'truncated', 'occluded', 'alpha', bbox,\n",
    "            dimensions, location, 'rotation_y', 'score']\n",
    "    labels = list()\n",
    "    for line in open(file_path, 'r'):\n",
    "        vals = line.split()\n",
    "        l, _ = vals_to_dict(vals, keys)\n",
    "        labels.append(l)\n",
    "    return labels\n",
    "\n",
    "def vals_to_dict(vals, keys, vals_n=0):\n",
    "    '''\n",
    "\n",
    "    '''\n",
    "    out = dict()\n",
    "    for key in keys:\n",
    "        if isinstance(key, str): \n",
    "            try:\n",
    "                val = float(vals[vals_n])\n",
    "            except:\n",
    "                val = vals[vals_n]\n",
    "            data = val\n",
    "            key_name = key\n",
    "            vals_n += 1\n",
    "        else:\n",
    "            data, vals_n = vals_to_dict(vals, key[1], vals_n)\n",
    "            key_name = key[0]\n",
    "        out[key_name] = data\n",
    "        if vals_n >= len(vals):\n",
    "            break\n",
    "    return out, vals_n\n",
    "\n",
    "def labelread(file_path):\n",
    "    bbox = ('bbox', ['left', 'top', 'right', 'bottom'])\n",
    "    dimensions = ('dimensions', ['height', 'width', 'length'])\n",
    "    location = ('location', ['x', 'y', 'z'])\n",
    "    keys = ['type', 'truncated', 'occluded', 'alpha', bbox,\n",
    "            dimensions, location, 'rotation_y', 'score']\n",
    "    labels = list()\n",
    "    for line in open(file_path, 'r'):\n",
    "        vals = line.split()\n",
    "        l, _ = vals_to_dict(vals, keys)\n",
    "        labels.append(l)\n",
    "    return labels\n",
    "\n",
    "def calibread(file_path):\n",
    "    out = dict()\n",
    "    for line in open(file_path, 'r'):\n",
    "        line = line.strip()\n",
    "        if line == '' or line[0] == '#':\n",
    "            continue\n",
    "        val = line.split(':')\n",
    "        assert len(val) == 2, 'Wrong file format, only one : per line!'\n",
    "        key_name = val[0].strip()\n",
    "        val = np.asarray(val[-1].strip().split(' '), dtype='f8')\n",
    "        assert len(val) in [12, 9], \"Wrong file format, wrong number of numbers!\"\n",
    "        if len(val) == 12:\n",
    "            out[key_name] = val.reshape(3, 4)\n",
    "        elif len(val) == 9:\n",
    "            out[key_name] = val.reshape(3, 3)\n",
    "    return out"
   ]
  },
  {
   "cell_type": "code",
   "execution_count": 5,
   "metadata": {},
   "outputs": [],
   "source": [
    "kitti_data_path = '/home/zijieguo/project/data_object_velodyne/'\n",
    "label_path = kitti_data_path + 'training/label_2/000001.txt'\n",
    "calib_path = kitti_data_path + 'training/calib/000001.txt'\n",
    "labels = labelread(label_path)\n",
    "calib = calibread(calib_path)"
   ]
  },
  {
   "cell_type": "code",
   "execution_count": 6,
   "metadata": {},
   "outputs": [
    {
     "data": {
      "text/plain": [
       "[{'type': 'Truck',\n",
       "  'truncated': 0.0,\n",
       "  'occluded': 0.0,\n",
       "  'alpha': -1.57,\n",
       "  'bbox': {'left': 599.41, 'top': 156.4, 'right': 629.75, 'bottom': 189.25},\n",
       "  'dimensions': {'height': 2.85, 'width': 2.63, 'length': 12.34},\n",
       "  'location': {'x': 0.47, 'y': 1.49, 'z': 69.44},\n",
       "  'rotation_y': -1.56},\n",
       " {'type': 'Car',\n",
       "  'truncated': 0.0,\n",
       "  'occluded': 0.0,\n",
       "  'alpha': 1.85,\n",
       "  'bbox': {'left': 387.63, 'top': 181.54, 'right': 423.81, 'bottom': 203.12},\n",
       "  'dimensions': {'height': 1.67, 'width': 1.87, 'length': 3.69},\n",
       "  'location': {'x': -16.53, 'y': 2.39, 'z': 58.49},\n",
       "  'rotation_y': 1.57},\n",
       " {'type': 'Cyclist',\n",
       "  'truncated': 0.0,\n",
       "  'occluded': 3.0,\n",
       "  'alpha': -1.65,\n",
       "  'bbox': {'left': 676.6, 'top': 163.95, 'right': 688.98, 'bottom': 193.93},\n",
       "  'dimensions': {'height': 1.86, 'width': 0.6, 'length': 2.02},\n",
       "  'location': {'x': 4.59, 'y': 1.32, 'z': 45.84},\n",
       "  'rotation_y': -1.55},\n",
       " {'type': 'DontCare',\n",
       "  'truncated': -1.0,\n",
       "  'occluded': -1.0,\n",
       "  'alpha': -10.0,\n",
       "  'bbox': {'left': 503.89, 'top': 169.71, 'right': 590.61, 'bottom': 190.13},\n",
       "  'dimensions': {'height': -1.0, 'width': -1.0, 'length': -1.0},\n",
       "  'location': {'x': -1000.0, 'y': -1000.0, 'z': -1000.0},\n",
       "  'rotation_y': -10.0},\n",
       " {'type': 'DontCare',\n",
       "  'truncated': -1.0,\n",
       "  'occluded': -1.0,\n",
       "  'alpha': -10.0,\n",
       "  'bbox': {'left': 511.35, 'top': 174.96, 'right': 527.81, 'bottom': 187.45},\n",
       "  'dimensions': {'height': -1.0, 'width': -1.0, 'length': -1.0},\n",
       "  'location': {'x': -1000.0, 'y': -1000.0, 'z': -1000.0},\n",
       "  'rotation_y': -10.0},\n",
       " {'type': 'DontCare',\n",
       "  'truncated': -1.0,\n",
       "  'occluded': -1.0,\n",
       "  'alpha': -10.0,\n",
       "  'bbox': {'left': 532.37, 'top': 176.35, 'right': 542.68, 'bottom': 185.27},\n",
       "  'dimensions': {'height': -1.0, 'width': -1.0, 'length': -1.0},\n",
       "  'location': {'x': -1000.0, 'y': -1000.0, 'z': -1000.0},\n",
       "  'rotation_y': -10.0},\n",
       " {'type': 'DontCare',\n",
       "  'truncated': -1.0,\n",
       "  'occluded': -1.0,\n",
       "  'alpha': -10.0,\n",
       "  'bbox': {'left': 559.62, 'top': 175.83, 'right': 575.4, 'bottom': 183.15},\n",
       "  'dimensions': {'height': -1.0, 'width': -1.0, 'length': -1.0},\n",
       "  'location': {'x': -1000.0, 'y': -1000.0, 'z': -1000.0},\n",
       "  'rotation_y': -10.0}]"
      ]
     },
     "execution_count": 6,
     "metadata": {},
     "output_type": "execute_result"
    }
   ],
   "source": [
    "labels"
   ]
  },
  {
   "cell_type": "code",
   "execution_count": 7,
   "metadata": {},
   "outputs": [
    {
     "data": {
      "text/plain": [
       "{'P0': array([[721.5377,   0.    , 609.5593,   0.    ],\n",
       "        [  0.    , 721.5377, 172.854 ,   0.    ],\n",
       "        [  0.    ,   0.    ,   1.    ,   0.    ]]),\n",
       " 'P1': array([[ 721.5377,    0.    ,  609.5593, -387.5744],\n",
       "        [   0.    ,  721.5377,  172.854 ,    0.    ],\n",
       "        [   0.    ,    0.    ,    1.    ,    0.    ]]),\n",
       " 'P2': array([[7.215377e+02, 0.000000e+00, 6.095593e+02, 4.485728e+01],\n",
       "        [0.000000e+00, 7.215377e+02, 1.728540e+02, 2.163791e-01],\n",
       "        [0.000000e+00, 0.000000e+00, 1.000000e+00, 2.745884e-03]]),\n",
       " 'P3': array([[ 7.215377e+02,  0.000000e+00,  6.095593e+02, -3.395242e+02],\n",
       "        [ 0.000000e+00,  7.215377e+02,  1.728540e+02,  2.199936e+00],\n",
       "        [ 0.000000e+00,  0.000000e+00,  1.000000e+00,  2.729905e-03]]),\n",
       " 'R0_rect': array([[ 0.9999239 ,  0.00983776, -0.00744505],\n",
       "        [-0.0098698 ,  0.9999421 , -0.00427846],\n",
       "        [ 0.00740253,  0.00435161,  0.9999631 ]]),\n",
       " 'Tr_velo_to_cam': array([[ 7.533745e-03, -9.999714e-01, -6.166020e-04, -4.069766e-03],\n",
       "        [ 1.480249e-02,  7.280733e-04, -9.998902e-01, -7.631618e-02],\n",
       "        [ 9.998621e-01,  7.523790e-03,  1.480755e-02, -2.717806e-01]]),\n",
       " 'Tr_imu_to_velo': array([[ 9.999976e-01,  7.553071e-04, -2.035826e-03, -8.086759e-01],\n",
       "        [-7.854027e-04,  9.998898e-01, -1.482298e-02,  3.195559e-01],\n",
       "        [ 2.024406e-03,  1.482454e-02,  9.998881e-01, -7.997231e-01]])}"
      ]
     },
     "execution_count": 7,
     "metadata": {},
     "output_type": "execute_result"
    }
   ],
   "source": [
    "calib"
   ]
  },
  {
   "cell_type": "code",
   "execution_count": 8,
   "metadata": {},
   "outputs": [],
   "source": [
    "polys = list()\n",
    "for bbox in labels:\n",
    "        poly = dict()\n",
    "\n",
    "        poly2d = dict()\n",
    "        poly2d['class'] = bbox['type']\n",
    "        poly2d['truncated'] = bbox['truncated']\n",
    "        poly2d['poly'] = np.array([[bbox['bbox']['left'], bbox['bbox']['top']],\n",
    "                                 [bbox['bbox']['right'], bbox['bbox']['top']],\n",
    "                                 [bbox['bbox']['right'], bbox['bbox']['bottom']],\n",
    "                                 [bbox['bbox']['left'], bbox['bbox']['bottom']]],\n",
    "                                dtype='int32')\n",
    "        poly[\"label_2D\"] = poly2d\n",
    "\n",
    "        poly3d = dict()\n",
    "        poly3d['class'] = bbox['type']\n",
    "        location = np.asarray([bbox['location']['x'],\n",
    "                               bbox['location']['y'],\n",
    "                               bbox['location']['z']], dtype='float32')\n",
    "        r_y = bbox['rotation_y']\n",
    "        Rmat = np.asarray([[math.cos(r_y), 0, math.sin(r_y)], [0, 1, 0],\n",
    "                           [-math.sin(r_y), 0, math.cos(r_y)]],\n",
    "                          dtype='float32')\n",
    "        length = bbox['dimensions']['length']\n",
    "        width = bbox['dimensions']['width']\n",
    "        height = bbox['dimensions']['height']\n",
    "        p0 = np.dot(Rmat, np.asarray(\n",
    "            [length / 2.0, 0, width / 2.0], dtype='float32'))\n",
    "        p1 = np.dot(Rmat, np.asarray(\n",
    "            [-length / 2.0, 0, width / 2.0], dtype='float32'))\n",
    "        p2 = np.dot(Rmat, np.asarray(\n",
    "            [-length / 2.0, 0, -width / 2.0], dtype='float32'))\n",
    "        p3 = np.dot(Rmat, np.asarray(\n",
    "            [length / 2.0, 0, -width / 2.0], dtype='float32'))\n",
    "        p4 = np.dot(Rmat, np.asarray(\n",
    "            [length / 2.0, -height, width / 2.0], dtype='float32'))\n",
    "        p5 = np.dot(Rmat, np.asarray(\n",
    "            [-length / 2.0, -height, width / 2.0], dtype='float32'))\n",
    "        p6 = np.dot(Rmat, np.asarray(\n",
    "            [-length / 2.0, -height, -width / 2.0], dtype='float32'))\n",
    "        p7 = np.dot(Rmat, np.asarray(\n",
    "            [length / 2.0, -height, -width / 2.0], dtype='float32'))\n",
    "        poly3d['points'] = np.array(location + [p0, p1, p2, p3, p4, p5, p6, p7])\n",
    "        poly3d['lines'] = [[0, 3, 7, 4, 0], [1, 2, 6, 5, 1],\n",
    "                         [0, 1], [2, 3], [6, 7], [4, 5]]\n",
    "        poly3d['colors'] = [[255, 0, 0], [0, 0, 255], [\n",
    "            255, 0, 0], [255, 0, 0], [255, 0, 0], [255, 0, 0]]\n",
    "        poly3d['P0_mat'] = calib['P2']\n",
    "        poly3d['center'] = location\n",
    "        poly3d['l'] = length\n",
    "        poly3d['w'] = width\n",
    "        poly3d['h'] = height\n",
    "        poly3d['r_y'] = r_y\n",
    "        poly[\"label_3D\"] = poly3d\n",
    "\n",
    "        polys.append(poly)"
   ]
  },
  {
   "cell_type": "code",
   "execution_count": 9,
   "metadata": {},
   "outputs": [],
   "source": [
    "examples = []\n",
    "for img_id in ['0','1']:\n",
    "    for poly in polys:\n",
    "        label_2d = poly['label_2D']\n",
    "        if label_2d['truncated'] < 0.5  and label_2d['class'] == 'Car':\n",
    "            poly['img_id'] = img_id\n",
    "            examples.append(poly)\n",
    "\n",
    "num_examples = len(examples)\n"
   ]
  },
  {
   "cell_type": "code",
   "execution_count": 10,
   "metadata": {},
   "outputs": [
    {
     "data": {
      "text/plain": [
       "{'label_2D': {'class': 'Car', 'truncated': 0.0, 'poly': array([[387, 181],\n",
       "         [423, 181],\n",
       "         [423, 203],\n",
       "         [387, 203]], dtype=int32)},\n",
       " 'label_3D': {'class': 'Car',\n",
       "  'points': array([[-15.593532  ,   2.39      ,  56.64575   ],\n",
       "         [-15.59647   ,   2.39      ,  60.335747  ],\n",
       "         [-17.466469  ,   2.39      ,  60.334255  ],\n",
       "         [-17.463531  ,   2.39      ,  56.644257  ],\n",
       "         [-15.593532  ,   0.72000015,  56.64575   ],\n",
       "         [-15.59647   ,   0.72000015,  60.335747  ],\n",
       "         [-17.466469  ,   0.72000015,  60.334255  ],\n",
       "         [-17.463531  ,   0.72000015,  56.644257  ]], dtype=float32),\n",
       "  'lines': [[0, 3, 7, 4, 0], [1, 2, 6, 5, 1], [0, 1], [2, 3], [6, 7], [4, 5]],\n",
       "  'colors': [[255, 0, 0],\n",
       "   [0, 0, 255],\n",
       "   [255, 0, 0],\n",
       "   [255, 0, 0],\n",
       "   [255, 0, 0],\n",
       "   [255, 0, 0]],\n",
       "  'P0_mat': array([[7.215377e+02, 0.000000e+00, 6.095593e+02, 4.485728e+01],\n",
       "         [0.000000e+00, 7.215377e+02, 1.728540e+02, 2.163791e-01],\n",
       "         [0.000000e+00, 0.000000e+00, 1.000000e+00, 2.745884e-03]]),\n",
       "  'center': array([-16.53,   2.39,  58.49], dtype=float32),\n",
       "  'l': 3.69,\n",
       "  'w': 1.87,\n",
       "  'h': 1.67,\n",
       "  'r_y': 1.57},\n",
       " 'img_id': '1'}"
      ]
     },
     "execution_count": 10,
     "metadata": {},
     "output_type": "execute_result"
    }
   ],
   "source": [
    "examples[1]"
   ]
  },
  {
   "cell_type": "code",
   "execution_count": 12,
   "metadata": {},
   "outputs": [],
   "source": [
    "label_2D = examples[1]['label_2D']\n",
    "label_3D = examples[1]['label_3D']\n",
    "bbox = label_2D['poly']\n",
    "u_min = bbox[0, 0] # (left)\n",
    "u_max = bbox[1, 0] # (rigth)\n",
    "v_min = bbox[0, 1] # (top)\n",
    "v_max = bbox[2, 1] # (bottom)"
   ]
  },
  {
   "cell_type": "code",
   "execution_count": 13,
   "metadata": {
    "scrolled": true
   },
   "outputs": [
    {
     "data": {
      "text/plain": [
       "array([[387, 181],\n",
       "       [423, 181],\n",
       "       [423, 203],\n",
       "       [387, 203]], dtype=int32)"
      ]
     },
     "execution_count": 13,
     "metadata": {},
     "output_type": "execute_result"
    }
   ],
   "source": [
    "input_2Dbbox = np.array([u_min, u_max, v_min, v_max])\n",
    "row_mask = np.logical_and(img_point[])"
   ]
  }
 ],
 "metadata": {
  "kernelspec": {
   "display_name": "Python 3",
   "language": "python",
   "name": "python3"
  },
  "language_info": {
   "codemirror_mode": {
    "name": "ipython",
    "version": 3
   },
   "file_extension": ".py",
   "mimetype": "text/x-python",
   "name": "python",
   "nbconvert_exporter": "python",
   "pygments_lexer": "ipython3",
   "version": "3.7.3"
  }
 },
 "nbformat": 4,
 "nbformat_minor": 2
}
