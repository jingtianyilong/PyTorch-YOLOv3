{
 "cells": [
  {
   "cell_type": "code",
   "execution_count": 12,
   "metadata": {},
   "outputs": [],
   "source": [
    "x=[0.662000,\n",
    "0.661899,\n",
    "0.661597,\n",
    "0.661093,\n",
    "0.660387,\n",
    "0.658373,\n",
    "0.657066,\n",
    "0.657538,\n",
    "0.655825,\n",
    "0.655727,\n",
    "0.653403,\n",
    "0.652828,\n",
    "0.653979,\n",
    "0.652966,\n",
    "0.646462,\n",
    "0.583949,\n",
    "0.572984,\n",
    "0.573213,\n",
    "0.571351,\n",
    "0.573000,\n",
    "0.566398,\n",
    "0.565536,\n",
    "0.566240,\n",
    "0.566680,\n",
    "0.568618,\n",
    "0.561184,\n",
    "0.560587,\n",
    "0.561408,\n",
    "0.560232,\n",
    "0.553747,\n",
    "0.554986,\n",
    "0.554253,\n",
    "0.554760,\n",
    "0.548488,\n",
    "0.549429,\n",
    "0.548441,\n",
    "0.549978,\n",
    "0.551014,\n",
    "0.540444,\n",
    "0.636986,\n",
    "0.624568,\n",
    "0.623504,\n",
    "0.626803,\n",
    "0.603348,\n",
    "0.605426,\n",
    "0.591931,\n",
    "0.592744,\n",
    "0.577317,\n",
    "0.559595,\n",
    "0.553000,\n",
    "0.522625,\n",
    "0.508907,\n",
    "0.492126,\n",
    "0.465550,\n",
    "0.425154,\n",
    "0.425897,\n",
    "0.403077,\n",
    "0.386321,\n",
    "0.374854,\n",
    "0.366494,\n",
    "0.347922,\n",
    "0.364944,\n",
    "0.508520,\n",
    "0.470598,\n",
    "0.390874,\n",
    "0.393830,\n",
    "0.321629,\n",
    "0.285027,\n",
    "0.248126,\n",
    "0.212193,\n",
    "0.176229,\n",
    "0.105928,\n",
    "0.075802,\n",
    "0.037069,\n",
    "0.000000,\n",
    "-0.073708,\n",
    "-0.109696,\n",
    "-0.147326,\n",
    "-0.185119,\n",
    "-0.223273,\n",
    "-0.296160,\n",
    "-0.331641,\n",
    "-0.368829,\n",
    "-0.405278,\n",
    "-0.448258,\n",
    "-0.523519,\n",
    "-0.558014,\n",
    "-0.598684,\n",
    "-0.639709,\n",
    "-0.709739,\n",
    "-0.752444,\n",
    "-0.801311,\n",
    "-0.848109,\n",
    "-0.887741,\n",
    "-0.958498,\n",
    "-1.001240,\n",
    "-1.045994,\n",
    "-1.106075,\n",
    "-1.161604,\n",
    "-1.244332,\n",
    "-1.278165,\n",
    "-1.318026,\n",
    "-1.380088,\n",
    "-1.490623,\n",
    "-1.538239,\n",
    "-1.561317,\n",
    "-1.608543,\n",
    "-1.858942,\n",
    "-2.250955,\n",
    "-2.329706,\n",
    "-2.773076,\n",
    "-2.728828,\n",
    "-2.837708,\n",
    "-2.344096,\n",
    "-2.300352,\n",
    "-2.316043,\n",
    "-2.232887,\n",
    "-2.332945,\n",
    "-2.371047,\n",
    "-0.634035,\n",
    "-0.606986,\n",
    "-0.598638,\n",
    "-0.589846,\n",
    "-0.598597,\n",
    "-0.612664,\n",
    "-0.640671,\n",
    "-0.656446,\n",
    "-0.672178,\n",
    "-0.689734,\n",
    "-0.720901,\n",
    "-0.722966,\n",
    "-0.711334,\n",
    "-0.705126,\n",
    "-0.696672,\n",
    "-0.696441,\n",
    "-0.696955,\n",
    "-0.701183,\n",
    "-0.711136,\n",
    "-0.722574,\n",
    "-0.733957,\n",
    "-3.838732,\n",
    "-3.825668,\n",
    "-3.815419]"
   ]
  },
  {
   "cell_type": "code",
   "execution_count": 13,
   "metadata": {},
   "outputs": [],
   "source": [
    "y =[\n",
    "0.000000,\n",
    "0.011553,\n",
    "0.023103,\n",
    "0.034646,\n",
    "0.046179,\n",
    "0.069198,\n",
    "0.080678,\n",
    "0.092411,\n",
    "0.103872,\n",
    "0.127460,\n",
    "0.138885,\n",
    "0.150717,\n",
    "0.163055,\n",
    "0.174962,\n",
    "0.197643,\n",
    "0.189736,\n",
    "0.197294,\n",
    "0.208632,\n",
    "0.219321,\n",
    "0.231507,\n",
    "0.252177,\n",
    "0.263714,\n",
    "0.276174,\n",
    "0.288738,\n",
    "0.302340,\n",
    "0.324000,\n",
    "0.336835,\n",
    "0.350807,\n",
    "0.363819,\n",
    "0.387738,\n",
    "0.403221,\n",
    "0.417660,\n",
    "0.433426,\n",
    "0.460236,\n",
    "0.477611,\n",
    "0.493818,\n",
    "0.512863,\n",
    "0.532108,\n",
    "0.559646,\n",
    "0.683084,\n",
    "0.718484,\n",
    "0.743063,\n",
    "0.774037,\n",
    "0.772251,\n",
    "0.803427,\n",
    "0.845365,\n",
    "0.878780,\n",
    "0.888991,\n",
    "0.895539,\n",
    "0.957824,\n",
    "0.942840,\n",
    "0.957115,\n",
    "0.965851,\n",
    "0.954519,\n",
    "0.911746,\n",
    "1.003350,\n",
    "0.997650,\n",
    "1.006400,\n",
    "1.029903,\n",
    "1.127953,\n",
    "1.138003,\n",
    "1.272710,\n",
    "2.039562,\n",
    "2.038382,\n",
    "1.838917,\n",
    "2.026078,\n",
    "2.030687,\n",
    "2.028069,\n",
    "2.020824,\n",
    "2.018879,\n",
    "2.014306,\n",
    "2.021226,\n",
    "2.170677,\n",
    "2.123677,\n",
    "2.088000,\n",
    "2.110713,\n",
    "2.093127,\n",
    "2.106855,\n",
    "2.115918,\n",
    "2.124299,\n",
    "2.107290,\n",
    "2.093899,\n",
    "2.091732,\n",
    "2.084976,\n",
    "2.108886,\n",
    "2.099720,\n",
    "2.082536,\n",
    "2.087860,\n",
    "2.092395,\n",
    "2.061231,\n",
    "2.067324,\n",
    "2.087486,\n",
    "2.099144,\n",
    "2.091387,\n",
    "2.055506,\n",
    "2.052846,\n",
    "2.052879,\n",
    "2.080224,\n",
    "2.095589,\n",
    "2.070916,\n",
    "2.045492,\n",
    "2.029583,\n",
    "2.046065,\n",
    "2.051667,\n",
    "2.041312,\n",
    "1.998395,\n",
    "1.986385,\n",
    "2.215401,\n",
    "2.499939,\n",
    "2.498304,\n",
    "2.871605,\n",
    "2.457048,\n",
    "2.466782,\n",
    "1.966930,\n",
    "1.862788,\n",
    "1.745264,\n",
    "1.622287,\n",
    "1.633546,\n",
    "1.599292,\n",
    "0.411747,\n",
    "0.336458,\n",
    "0.318302,\n",
    "0.300542,\n",
    "0.291955,\n",
    "0.285690,\n",
    "0.271949,\n",
    "0.265221,\n",
    "0.258025,\n",
    "0.251043,\n",
    "0.234235,\n",
    "0.221033,\n",
    "0.203972,\n",
    "0.188938,\n",
    "0.173700,\n",
    "0.148033,\n",
    "0.135474,\n",
    "0.123638,\n",
    "0.112633,\n",
    "0.088721,\n",
    "0.077142,\n",
    "0.201180,\n",
    "0.133595,\n",
    "0.066598\n",
    "]"
   ]
  },
  {
   "cell_type": "code",
   "execution_count": 14,
   "metadata": {},
   "outputs": [
    {
     "data": {
      "image/png": "[encoded data removed]",
      "text/plain": [
       "<Figure size 720x360 with 1 Axes>"
      ]
     },
     "metadata": {
      "needs_background": "light"
     },
     "output_type": "display_data"
    }
   ],
   "source": [
    "import matplotlib.pyplot as plt\n",
    "f4 = plt.figure(figsize=(10, 5))\n",
    "ax4 = f4.add_subplot(111)\n",
    "ax4.scatter(x,y,\n",
    "            s=1, c=[(0,1,0)]*len(x))\n",
    "ax4.set_facecolor((0,0,0))\n",
    "plt.show()"
   ]
  },
  {
   "cell_type": "code",
   "execution_count": 62,
   "metadata": {},
   "outputs": [],
   "source": [
    "ret, frame= cap.read()\n",
    "if ret:\n",
    "    img = prep_image(frame, input_dim).cuda()\n",
    "    img_dim = frame.shape[1], frame.shape[0]\n",
    "    img_dim = torch.FloatTensor(img_dim).repeat(1,2).cuda()\n",
    "    \n",
    "    with torch.no_grad():\n",
    "        detections = model(img)\n",
    "#         detections = write_results(detections, 0.8, 80, 0.4)\n",
    "        \n",
    "#     if type(detections) == int:\n",
    "#         frames += 1\n",
    "#         print(\"FPS of the video is {:5.4f}\".format( frames / (time.time() - start_time)))\n",
    "#         cv2.imshow(\"frame\", frame)\n",
    "#         key = cv2.waitKey(1)\n",
    "#         if key & 0xFF == ord('q'):\n",
    "#             break\n",
    "#         continue\n",
    "\n",
    "#     print(detections)\n",
    "    \n",
    "    "
   ]
  },
  {
   "cell_type": "code",
   "execution_count": 70,
   "metadata": {},
   "outputs": [
    {
     "ename": "RuntimeError",
     "evalue": "invalid argument 0: Tensors must have same number of dimensions: got 1 and 2 at /opt/conda/conda-bld/pytorch_1532579245307/work/aten/src/THC/generic/THCTensorMath.cu:78",
     "output_type": "error",
     "traceback": [
      "\u001b[0;31m---------------------------------------------------------------------------\u001b[0m",
      "\u001b[0;31mRuntimeError\u001b[0m                              Traceback (most recent call last)",
      "\u001b[0;32m<ipython-input-70-0248f7abf71f>\u001b[0m in \u001b[0;36m<module>\u001b[0;34m\u001b[0m\n\u001b[1;32m     14\u001b[0m     \u001b[0mmax_conf\u001b[0m \u001b[0;34m=\u001b[0m \u001b[0mmax_conf\u001b[0m\u001b[0;34m.\u001b[0m\u001b[0mfloat\u001b[0m\u001b[0;34m(\u001b[0m\u001b[0;34m)\u001b[0m\u001b[0;34m.\u001b[0m\u001b[0munsqueeze\u001b[0m\u001b[0;34m(\u001b[0m\u001b[0;36m1\u001b[0m\u001b[0;34m)\u001b[0m\u001b[0;34m\u001b[0m\u001b[0m\n\u001b[1;32m     15\u001b[0m     \u001b[0mseq\u001b[0m \u001b[0;34m=\u001b[0m \u001b[0;34m(\u001b[0m\u001b[0mimage_pred\u001b[0m\u001b[0;34m[\u001b[0m\u001b[0;34m:\u001b[0m\u001b[0;34m,\u001b[0m\u001b[0;34m:\u001b[0m\u001b[0;36m5\u001b[0m\u001b[0;34m]\u001b[0m\u001b[0;34m,\u001b[0m \u001b[0mmax_conf\u001b[0m\u001b[0;34m,\u001b[0m \u001b[0mmax_conf_score\u001b[0m\u001b[0;34m.\u001b[0m\u001b[0mfloat\u001b[0m\u001b[0;34m(\u001b[0m\u001b[0;34m)\u001b[0m\u001b[0;34m)\u001b[0m\u001b[0;34m\u001b[0m\u001b[0m\n\u001b[0;32m---> 16\u001b[0;31m     \u001b[0mimage_pred\u001b[0m \u001b[0;34m=\u001b[0m \u001b[0mtorch\u001b[0m\u001b[0;34m.\u001b[0m\u001b[0mcat\u001b[0m\u001b[0;34m(\u001b[0m\u001b[0mseq\u001b[0m\u001b[0;34m,\u001b[0m\u001b[0;36m1\u001b[0m\u001b[0;34m)\u001b[0m\u001b[0;34m\u001b[0m\u001b[0m\n\u001b[0m\u001b[1;32m     17\u001b[0m     \u001b[0mimage_pred\u001b[0m\u001b[0;34m.\u001b[0m\u001b[0msize\u001b[0m\u001b[0;34m(\u001b[0m\u001b[0;34m)\u001b[0m\u001b[0;34m\u001b[0m\u001b[0m\n",
      "\u001b[0;31mRuntimeError\u001b[0m: invalid argument 0: Tensors must have same number of dimensions: got 1 and 2 at /opt/conda/conda-bld/pytorch_1532579245307/work/aten/src/THC/generic/THCTensorMath.cu:78"
     ]
    }
   ],
   "source": [
    "box_corner = detections.new(detections.shape)\n",
    "# prediction[:,:,0] center x, 1 center y , 2 box_width, 3 box_height\n",
    "box_corner[:,:,0] = (detections[:,:,0] - detections[:,:,2]/2)\n",
    "box_corner[:,:,1] = (detections[:,:,1] - detections[:,:,3]/2)\n",
    "box_corner[:,:,2] = (detections[:,:,0] + detections[:,:,2]/2) \n",
    "box_corner[:,:,3] = (detections[:,:,1] + detections[:,:,3]/2)\n",
    "detections[:,:,:4] = box_corner[:,:,:4]\n",
    "# prediction is using x,y,w,h to describe the boundingbox, convert to the 4 corner point\n",
    "batch_size = detections.size(0)\n",
    "write = False\n",
    "for index in range(batch_size):\n",
    "    image_pred = detections[index]\n",
    "    max_conf, max_conf_score = torch.max(image_pred[:,5:85],1)\n",
    "    max_conf = max_conf.float().unsqueeze(1)\n",
    "    seq = (image_pred[:,:5], max_conf, max_conf_score.float())\n",
    "    image_pred = torch.cat(seq,1)\n",
    "    image_pred.size() "
   ]
  },
  {
   "cell_type": "code",
   "execution_count": 74,
   "metadata": {},
   "outputs": [
    {
     "data": {
      "text/plain": [
       "torch.Size([10647, 5])"
      ]
     },
     "execution_count": 74,
     "metadata": {},
     "output_type": "execute_result"
    }
   ],
   "source": [
    "image_pred[:,:5].size()"
   ]
  },
  {
   "cell_type": "code",
   "execution_count": 75,
   "metadata": {},
   "outputs": [
    {
     "data": {
      "text/plain": [
       "torch.Size([10647, 1])"
      ]
     },
     "execution_count": 75,
     "metadata": {},
     "output_type": "execute_result"
    }
   ],
   "source": [
    "max_conf.size()"
   ]
  },
  {
   "cell_type": "code",
   "execution_count": 76,
   "metadata": {},
   "outputs": [
    {
     "data": {
      "text/plain": [
       "torch.Size([10647])"
      ]
     },
     "execution_count": 76,
     "metadata": {},
     "output_type": "execute_result"
    }
   ],
   "source": [
    "max_conf_score.size()"
   ]
  },
  {
   "cell_type": "code",
   "execution_count": 44,
   "metadata": {},
   "outputs": [
    {
     "data": {
      "text/plain": [
       "(tensor([1.2450, 2.8629]), tensor([1, 2]))"
      ]
     },
     "execution_count": 44,
     "metadata": {},
     "output_type": "execute_result"
    }
   ],
   "source": [
    "torch.max(a[:,2:4], 0)"
   ]
  },
  {
   "cell_type": "code",
   "execution_count": 115,
   "metadata": {},
   "outputs": [
    {
     "data": {
      "text/plain": [
       "tensor([[ 1.5431,  0.6298,  1.3207],\n",
       "        [-0.1956,  0.1025, -0.9766]])"
      ]
     },
     "execution_count": 115,
     "metadata": {},
     "output_type": "execute_result"
    }
   ],
   "source": [
    "a"
   ]
  },
  {
   "cell_type": "code",
   "execution_count": 83,
   "metadata": {},
   "outputs": [
    {
     "data": {
      "text/plain": [
       "torch.Size([1, 3, 416, 416])"
      ]
     },
     "execution_count": 83,
     "metadata": {},
     "output_type": "execute_result"
    }
   ],
   "source": [
    " input_dim).cuda()\n",
    "img.size()"
   ]
  }
 ],
 "metadata": {
  "kernelspec": {
   "display_name": "Python 3",
   "language": "python",
   "name": "python3"
  },
  "language_info": {
   "codemirror_mode": {
    "name": "ipython",
    "version": 3
   },
   "file_extension": ".py",
   "mimetype": "text/x-python",
   "name": "python",
   "nbconvert_exporter": "python",
   "pygments_lexer": "ipython3",
   "version": "3.6.8"
  }
 },
 "nbformat": 4,
 "nbformat_minor": 2
}
